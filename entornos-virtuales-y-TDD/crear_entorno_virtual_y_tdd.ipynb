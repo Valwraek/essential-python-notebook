{
 "cells": [
  {
   "cell_type": "markdown",
   "metadata": {},
   "source": [
    "# Set up\n",
    "\n",
    "- Crear directorio src\n",
    "- Dentro de src:\n",
    "    - Crear \\_\\_init\\_\\_.py\n",
    "\n",
    "- Crear directorio test\n",
    "- Dentro de test:\n",
    "    - Crear \\_\\_init\\_\\_.py\n",
    "\n"
   ]
  },
  {
   "cell_type": "markdown",
   "metadata": {},
   "source": [
    "## ¿Cómo importar un modulo?\n",
    "\n",
    "```python\n",
    "import modulo\n",
    "```\n",
    "\n",
    "## ¿Cómo importar un archivo?\n",
    "```python\n",
    "from carpeta.archivo import función \n",
    "```"
   ]
  },
  {
   "cell_type": "markdown",
   "metadata": {},
   "source": [
    "# ¿Cómo hacer un entorno virtual?\n"
   ]
  },
  {
   "cell_type": "markdown",
   "metadata": {
    "vscode": {
     "languageId": "bat"
    }
   },
   "source": [
    "En la terminal, hay que escribir lo siguiente:  \n",
    "- `py -m venv venv`  --> Para windows  \n",
    "- `python -m venv venv` --> Para linux  \n",
    "\n",
    "Esto lo hace es invocar al interprete python. Ejecuta el módulo venv y creando luego un directorio venv"
   ]
  },
  {
   "cell_type": "markdown",
   "metadata": {},
   "source": [
    "## ¿Cómo activar el entorno venv?\n",
    "- En Windows: Tenemos que escribir en la terminal el siguiente comando.\n",
    "    1. cmd --> para entrar el la terminal de windows. \n",
    "    2. .\\venv\\Scripts\\activate.bat\n",
    "- En Linux: Tenemos que ir al directorio del script y ejecutarlo. NO HACE FALTA NADA MÁS"
   ]
  },
  {
   "cell_type": "markdown",
   "metadata": {},
   "source": [
    "# Instalar pytest"
   ]
  },
  {
   "cell_type": "markdown",
   "metadata": {
    "vscode": {
     "languageId": "bat"
    }
   },
   "source": [
    "1. **Haber creado un entorno virtual y estar dentro de ella**, sino hacemos esto al intalar pytest se hará en todo nuestro sistema.\n",
    "2. Ejecutar el siguiente comando en la terminal: **`pip install pytest` o `pip3 install pytest`**."
   ]
  },
  {
   "cell_type": "markdown",
   "metadata": {},
   "source": [
    "# Instalar pytest-sugar\n"
   ]
  },
  {
   "cell_type": "markdown",
   "metadata": {
    "vscode": {
     "languageId": "bat"
    }
   },
   "source": [
    "pytest-sugar es un complemento que nos permite ver de manera más visual los casos test que hemos ejecutado.  \n",
    "Para instalarlo necesitaremos ejecutar el siguiente comando:  \n",
    "No olvidar estar dentro del entorno virtual.\n",
    "- **`pip install pytest-sugar` o `pip3 install pytest-sugar`**."
   ]
  },
  {
   "cell_type": "markdown",
   "metadata": {},
   "source": [
    "# Instalar Coverage"
   ]
  },
  {
   "cell_type": "markdown",
   "metadata": {},
   "source": [
    "Coverage es una herramienta utilizada para medir la cobertura de pruebas (test).\n",
    "Para su instalación se tienen que seguir los siguientes pasos:\n",
    "1. Haber creado un entrno virtual y estar dentro de ella.\n",
    "2. Ejecutar el siguiente comando en la terminal: **`pip install coverage` o `pip3 install coverage`**"
   ]
  },
  {
   "cell_type": "markdown",
   "metadata": {},
   "source": [
    "# Instalar Coverage VsCode\n"
   ]
  },
  {
   "cell_type": "markdown",
   "metadata": {},
   "source": [
    "Es una herramienta que demanera visual te dice cuanto porcentaje de tus test se han pasado.  \n",
    "Para su instalación sigue los siguientes pasos:\n",
    "1. Estar dentro de tu entorno virtual.\n",
    "2. **`pip install pytest-cov` o `pip3 install pytest-cov`**."
   ]
  },
  {
   "cell_type": "markdown",
   "metadata": {},
   "source": [
    "## Listar paquetes instalados"
   ]
  },
  {
   "cell_type": "markdown",
   "metadata": {
    "vscode": {
     "languageId": "bat"
    }
   },
   "source": [
    "Si se desea listar los paquetes que tenemos instalado en nuestro entorno virtual, se utilizará el siguiente comando:  \n",
    "- `pip list` "
   ]
  },
  {
   "cell_type": "markdown",
   "metadata": {},
   "source": [
    "# ¿Cómo hacer TDD?\n"
   ]
  },
  {
   "cell_type": "markdown",
   "metadata": {},
   "source": [
    "- En test:\n",
    "    - Añadir los archivos python, estos  tienen que empezar por test y la función que estará dentro de estos archivos tienen que empezar por test. \n",
    "\n",
    "- En src:\n",
    "    - Crear el archivo python que tiene que pasar los casos test, para cada test tiene que haber una función."
   ]
  },
  {
   "cell_type": "markdown",
   "metadata": {},
   "source": [
    "# ¿Cómo probar los test?"
   ]
  },
  {
   "cell_type": "markdown",
   "metadata": {
    "vscode": {
     "languageId": "bat"
    }
   },
   "source": [
    "Escribimos en la terminal **`pytest`**, tenemos que estar dentro del entorno virtual."
   ]
  },
  {
   "cell_type": "markdown",
   "metadata": {},
   "source": [
    "# Seleccionar test por nombre"
   ]
  },
  {
   "cell_type": "markdown",
   "metadata": {
    "vscode": {
     "languageId": "bat"
    }
   },
   "source": [
    "**`pytest -k \"nombre_del_archivo_test\"`**"
   ]
  },
  {
   "cell_type": "markdown",
   "metadata": {},
   "source": [
    "# Coverage\n",
    "Indica cuantas líneas de código has ejecutado"
   ]
  },
  {
   "cell_type": "markdown",
   "metadata": {
    "vscode": {
     "languageId": "bat"
    }
   },
   "source": [
    "**`coverage run -m pytest`**"
   ]
  },
  {
   "cell_type": "markdown",
   "metadata": {},
   "source": [
    "## Sólo analizar el directorio source indicado"
   ]
  },
  {
   "cell_type": "markdown",
   "metadata": {
    "vscode": {
     "languageId": "bat"
    }
   },
   "source": [
    "**`coverage run --source ./src -m pytest`**"
   ]
  },
  {
   "cell_type": "markdown",
   "metadata": {},
   "source": [
    "## Visualizar report"
   ]
  },
  {
   "cell_type": "markdown",
   "metadata": {
    "vscode": {
     "languageId": "bat"
    }
   },
   "source": [
    "**`coverage report`**"
   ]
  },
  {
   "cell_type": "markdown",
   "metadata": {},
   "source": [
    "## Anotar el código\n",
    "- Te dice que código no se ha ejecutado"
   ]
  },
  {
   "cell_type": "markdown",
   "metadata": {
    "vscode": {
     "languageId": "bat"
    }
   },
   "source": [
    "**`coverage annotate -d ./coverage_annotation`**"
   ]
  },
  {
   "cell_type": "markdown",
   "metadata": {},
   "source": [
    "# Markers\n",
    "Son etiquetas que se utilizan para categorizar, configurar o modificar el comportamiento de ciertas pruebas (test).  \n",
    "\n",
    "1. Crear en la raiz pytest.ini\n",
    "- Estructura:\n",
    "    ```ini\n",
    "    [pytest]\n",
    "    markers =\n",
    "        marker_ejemplo: descripcion marker\n",
    "    ```\n",
    "2. importar pytest en el caso test\n",
    "    ```python\n",
    "    import pytest\n",
    "    ```\n",
    "3. añadir marked en el archivo test de python\n",
    "    ```python\n",
    "    @pytest.mark.nombre_marked\n",
    "    ```\n"
   ]
  },
  {
   "cell_type": "markdown",
   "metadata": {},
   "source": [
    "---"
   ]
  }
 ],
 "metadata": {
  "kernelspec": {
   "display_name": "venv",
   "language": "python",
   "name": "python3"
  },
  "language_info": {
   "name": "python",
   "version": "3.12.6"
  }
 },
 "nbformat": 4,
 "nbformat_minor": 2
}
