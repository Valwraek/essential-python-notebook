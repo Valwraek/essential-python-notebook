{
 "cells": [
  {
   "cell_type": "markdown",
   "metadata": {},
   "source": [
    "# ¿ Qué es Markdown?"
   ]
  },
  {
   "cell_type": "markdown",
   "metadata": {},
   "source": [
    "---"
   ]
  },
  {
   "cell_type": "markdown",
   "metadata": {},
   "source": [
    "Es un lenguaje de marcado que convierte texto plano en HTML formateado."
   ]
  },
  {
   "cell_type": "markdown",
   "metadata": {},
   "source": [
    "Nosotros utilizaremos Markdown con Jupyter Notebook para tomar notas y ejecutar código en el mismo archivo."
   ]
  },
  {
   "cell_type": "markdown",
   "metadata": {},
   "source": [
    "**La extensión del archivo tiene quer ipynb en nuestro caso**"
   ]
  },
  {
   "cell_type": "markdown",
   "metadata": {},
   "source": [
    "## Etiquetas"
   ]
  },
  {
   "cell_type": "markdown",
   "metadata": {},
   "source": [
    "### Encabezado"
   ]
  },
  {
   "cell_type": "markdown",
   "metadata": {},
   "source": [
    "Utiliza el símbolo # seguido de un espacio para crear encabezados. El número de # determina el nivel del encabezado (de 1 a 6)."
   ]
  },
  {
   "cell_type": "markdown",
   "metadata": {},
   "source": [
    "1. \\# --> equivale a h1 en HTML\n",
    "2. \\#\\# --> equivale a h2 en HTML  \n",
    "\n",
    "Así sucesivamente"
   ]
  },
  {
   "cell_type": "markdown",
   "metadata": {},
   "source": [
    "### Énfasis de texto"
   ]
  },
  {
   "cell_type": "markdown",
   "metadata": {},
   "source": [
    "##### Negrita\n"
   ]
  },
  {
   "cell_type": "markdown",
   "metadata": {},
   "source": [
    "Utiliza el símbolo * dos veces seguidas, al principio y al final de la frase donde queramos que se ponga en negrita.  \n",
    "\n",
    "**IMPORTANTE**\n"
   ]
  },
  {
   "cell_type": "markdown",
   "metadata": {},
   "source": [
    "##### Cursiva"
   ]
  },
  {
   "cell_type": "markdown",
   "metadata": {},
   "source": [
    "Utiliza el símbolo * solo una vez, al principio y al final de la frase donde queramos que se ponga en cursiva.  \n",
    "\n",
    "*IMPORTANTE*  "
   ]
  },
  {
   "cell_type": "markdown",
   "metadata": {},
   "source": [
    "##### Negrita y Cursiva"
   ]
  },
  {
   "cell_type": "markdown",
   "metadata": {},
   "source": [
    "Utiliza el símbolo * tres veces seguidas, al principio y al final de la frase donde queramos que se ponga en negrita y  en cursiva.  \n",
    "\n",
    "***IMPORTANTE***"
   ]
  },
  {
   "cell_type": "markdown",
   "metadata": {},
   "source": [
    "### Listas"
   ]
  },
  {
   "cell_type": "markdown",
   "metadata": {},
   "source": [
    "##### Lista desordenada"
   ]
  },
  {
   "cell_type": "markdown",
   "metadata": {},
   "source": [
    "Utiliza el símbolo del guión seguido de un espacio. Si queremos crear sub-elementos solo hay que tabular al principio y poner luego el guión más el espacio.  \n",
    "\n",
    "- Elemento 1\n",
    "- Elemento 2 \n",
    "- Elemento 3\n",
    "  - Sub-elemento 3.1"
   ]
  },
  {
   "cell_type": "markdown",
   "metadata": {},
   "source": [
    "##### Lista ordenada"
   ]
  },
  {
   "cell_type": "markdown",
   "metadata": {},
   "source": [
    "Utiliza números seguidos de un punto y un espacio. Para crear sub-elementos solo hay que tabular al principio y luego poner el numero seguido del punto."
   ]
  },
  {
   "cell_type": "markdown",
   "metadata": {},
   "source": [
    "1. Primer elemento\n",
    "2. Segundo elemento\n",
    "3. Tercer elemento\n",
    "   1. Sub-elemento 3.1\n",
    "      1. Sub-elemento del sub-elemento 3.1.1"
   ]
  },
  {
   "cell_type": "markdown",
   "metadata": {},
   "source": [
    "### Citas"
   ]
  },
  {
   "cell_type": "markdown",
   "metadata": {},
   "source": [
    "Utiliza el símbolo > seguida de un espacio para crear citas o bloques de texto destacados."
   ]
  },
  {
   "cell_type": "markdown",
   "metadata": {},
   "source": [
    "> Esta es una cita destacada"
   ]
  },
  {
   "cell_type": "markdown",
   "metadata": {},
   "source": [
    "### Bloques de código"
   ]
  },
  {
   "cell_type": "markdown",
   "metadata": {},
   "source": [
    "Para resaltar código en línea, utilizar acentos invertidos simples ` al principio de nuestro código y al final."
   ]
  },
  {
   "cell_type": "markdown",
   "metadata": {},
   "source": [
    "`print (\"Hola mundo\")`"
   ]
  },
  {
   "cell_type": "markdown",
   "metadata": {},
   "source": [
    "Para bloques de código se usará triple acento invetido ``` al principio de nuestro código y al final.  \n",
    "Además, si se quiere, se puede especificar de que lenguaje se trata para que se coloree el código segun el lenguaje de programación.\n",
    "'''python -> Esto nos dice que el código que va a seguir a continuación es del lenguaje python."
   ]
  },
  {
   "cell_type": "markdown",
   "metadata": {},
   "source": [
    "```python\n",
    "def holamundo():\n",
    "    return print(\"Hola mundo !!!!\")\n",
    "holamundo()\n",
    "```"
   ]
  },
  {
   "cell_type": "markdown",
   "metadata": {},
   "source": [
    "### Enlaces"
   ]
  },
  {
   "cell_type": "markdown",
   "metadata": {},
   "source": [
    "##### Enlace externo"
   ]
  },
  {
   "cell_type": "markdown",
   "metadata": {},
   "source": [
    "La sintaxis para enlaces es **\\[texto del enlace\\]\\(URL\\)**"
   ]
  },
  {
   "cell_type": "markdown",
   "metadata": {},
   "source": [
    "[Documentación de Python](https://docs.python.org/es/3.13/)"
   ]
  },
  {
   "cell_type": "markdown",
   "metadata": {},
   "source": [
    "##### Enlace interno"
   ]
  },
  {
   "cell_type": "markdown",
   "metadata": {},
   "source": [
    "<a href=\"../libro/Learning Python, - RATA 5th Edition subrayado.pdf#page=200\">Abrir PDF en página 200</a>\n",
    "\n",
    "\n"
   ]
  },
  {
   "cell_type": "markdown",
   "metadata": {},
   "source": [
    "### Imágenes"
   ]
  },
  {
   "cell_type": "markdown",
   "metadata": {},
   "source": [
    "La sintaxis para imágnees es similar a los enlaces pero precedida por un signo de exclamación !. "
   ]
  },
  {
   "cell_type": "markdown",
   "metadata": {},
   "source": [
    "**!\\[Texto alternativo\\]\\(URL_img\\)**"
   ]
  },
  {
   "cell_type": "markdown",
   "metadata": {},
   "source": [
    "Si la imagen necesita redimendiosarse podemos usar la etiqueta de HTML \\<img\\> con sus atributos"
   ]
  },
  {
   "cell_type": "markdown",
   "metadata": {},
   "source": [
    "<img src=\"../../Notebook-python-essential/images/Python-logo-notext.svg.png\" alt=\"Imagen del logo de python\" width=\"200px\" higth=\"200px\">"
   ]
  },
  {
   "cell_type": "markdown",
   "metadata": {},
   "source": [
    "### Tablas"
   ]
  },
  {
   "cell_type": "markdown",
   "metadata": {},
   "source": [
    "Puedes crear tablas utilizando guiones `-` y barras verticales `|`"
   ]
  },
  {
   "cell_type": "markdown",
   "metadata": {},
   "source": [
    "<img src=\"../../Notebook-python-essential/images/tabla-markdown.png\" alt=\"Como hacer una tabla en markdown\">"
   ]
  },
  {
   "cell_type": "markdown",
   "metadata": {},
   "source": [
    "| Columna 1 | Columna 2 |\n",
    "| --------- | --------- |\n",
    "| Dato 1    | Dato 2 |"
   ]
  }
 ],
 "metadata": {
  "kernelspec": {
   "display_name": "Python 3",
   "language": "python",
   "name": "python3"
  },
  "language_info": {
   "codemirror_mode": {
    "name": "ipython",
    "version": 3
   },
   "file_extension": ".py",
   "mimetype": "text/x-python",
   "name": "python",
   "nbconvert_exporter": "python",
   "pygments_lexer": "ipython3",
   "version": "3.12.6"
  }
 },
 "nbformat": 4,
 "nbformat_minor": 2
}
